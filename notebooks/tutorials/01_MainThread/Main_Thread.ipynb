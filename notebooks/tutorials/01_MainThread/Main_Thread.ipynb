{
 "cells": [
  {
   "cell_type": "code",
   "execution_count": null,
   "metadata": {},
   "outputs": [],
   "source": [
    "#Only use if sandbox is not installed\n",
    "import os,sys\n",
    "sys.path.append('../../../')"
   ]
  },
  {
   "cell_type": "markdown",
   "metadata": {},
   "source": [
    "## Initialize Sensor and Projector"
   ]
  },
  {
   "cell_type": "code",
   "execution_count": null,
   "metadata": {},
   "outputs": [],
   "source": [
    "#save the paths to the calibration files \n",
    "from sandbox import _calibration_dir\n",
    "_calibprojector = _calibration_dir + \"my_projector_calibration.json\"\n",
    "_calibsensor = _calibration_dir + \"my_sensor_calibration.json\""
   ]
  },
  {
   "cell_type": "code",
   "execution_count": null,
   "metadata": {},
   "outputs": [],
   "source": [
    "#Import Sensor\n",
    "from sandbox.sensor import Sensor\n",
    "sensor = Sensor(calibsensor=_calibsensor, name=\"kinect_v2\")"
   ]
  },
  {
   "cell_type": "code",
   "execution_count": null,
   "metadata": {},
   "outputs": [],
   "source": [
    "# Import projector\n",
    "from sandbox.projector import Projector\n",
    "projector = Projector(calibprojector=_calibprojector)\n"
   ]
  },
  {
   "cell_type": "markdown",
   "metadata": {},
   "source": [
    "## Initialize marker detection"
   ]
  },
  {
   "cell_type": "code",
   "execution_count": null,
   "metadata": {},
   "outputs": [],
   "source": [
    "#Initialize the aruco detection\n",
    "from sandbox.markers import MarkerDetection\n",
    "aruco = MarkerDetection(sensor=sensor)"
   ]
  },
  {
   "cell_type": "markdown",
   "metadata": {},
   "source": [
    "## Initialize main thread for live update"
   ]
  },
  {
   "cell_type": "code",
   "execution_count": null,
   "metadata": {},
   "outputs": [],
   "source": [
    "from sandbox.main_thread import MainThread\n",
    "main = MainThread(sensor=sensor, projector=projector, aruco= aruco if 'aruco' in globals() else None)"
   ]
  },
  {
   "cell_type": "code",
   "execution_count": null,
   "metadata": {},
   "outputs": [],
   "source": [
    "# Start the thread \n",
    "main.run()"
   ]
  },
  {
   "cell_type": "markdown",
   "metadata": {},
   "source": [
    "### Control the features of the main thread"
   ]
  },
  {
   "cell_type": "code",
   "execution_count": null,
   "metadata": {},
   "outputs": [],
   "source": [
    "main.widget_plot_module()"
   ]
  },
  {
   "cell_type": "markdown",
   "metadata": {},
   "source": [
    "# Upload an external DEM to the main thread or fix a frame"
   ]
  },
  {
   "cell_type": "code",
   "execution_count": null,
   "metadata": {},
   "outputs": [],
   "source": [
    "from sandbox import _test_data \n",
    "import numpy as np\n",
    "import matplotlib.pyplot as plt\n",
    "main.stop()"
   ]
  },
  {
   "cell_type": "code",
   "execution_count": null,
   "metadata": {},
   "outputs": [],
   "source": [
    "print(sensor.extent)"
   ]
  },
  {
   "cell_type": "markdown",
   "metadata": {},
   "source": [
    "## <b>From a saved topography from the Sandbox (extension .npz)</b>\n",
    "\n",
    "\n",
    "This will modify the extends of the frame to the sensor extents according to the calibration file "
   ]
  },
  {
   "cell_type": "code",
   "execution_count": null,
   "metadata": {},
   "outputs": [],
   "source": [
    "#Original File\n",
    "file = np.load(_test_data['topo'] + \"DEM2.npz\")\n",
    "frame_arr = file['arr_0']\n",
    "print(\"shape of array:\", frame_arr.shape)\n",
    "\n",
    "\n",
    "fig, ax = plt.subplots()\n",
    "col = ax.imshow(frame_arr, cmap = \"gist_earth\", origin=\"lower\")\n",
    "fig.colorbar(col, ax = ax)"
   ]
  },
  {
   "cell_type": "code",
   "execution_count": null,
   "metadata": {},
   "outputs": [],
   "source": [
    "# To the sandbox\n",
    "#Set the frame static - If frame doesn't change run the function again \n",
    "main.load_frame(from_file = _test_data['topo'] + \"DEM2.npz\")\n",
    "main.run()"
   ]
  },
  {
   "cell_type": "markdown",
   "metadata": {},
   "source": [
    "## <b>From a saved DEM saved as a numpy array (extension .npy)</b>\n",
    "\n",
    "\n",
    "This will modify the extends of the DEM to the sensor extents according to the calibration file.  "
   ]
  },
  {
   "cell_type": "code",
   "execution_count": null,
   "metadata": {},
   "outputs": [],
   "source": [
    "main.stop()"
   ]
  },
  {
   "cell_type": "code",
   "execution_count": null,
   "metadata": {},
   "outputs": [],
   "source": [
    "#Original File\n",
    "frame_DEM = np.load(_test_data['topo'] + \"bennisson_raster_DEM_04.npy\")\n",
    "\n",
    "print(\"shape of array:\", frame_DEM.shape)\n",
    "\n",
    "\n",
    "fig, ax = plt.subplots()\n",
    "col = ax.imshow(frame_DEM, cmap = \"gist_earth\", origin=\"lower\")\n",
    "fig.colorbar(col, ax = ax)\n"
   ]
  },
  {
   "cell_type": "code",
   "execution_count": null,
   "metadata": {},
   "outputs": [],
   "source": [
    "# To the sandbox\n",
    "#Set the frame static - If frame doesn't change run the function again \n",
    "main.load_frame(from_file = _test_data['topo'] + \"bennisson_raster_DEM_04.npy\")\n",
    "main.run()"
   ]
  },
  {
   "cell_type": "markdown",
   "metadata": {},
   "source": [
    "## <b>From a numpy array that you can modify</b>\n",
    "\n",
    "\n",
    "This will directly load a numpy array that you can create and modify on the go. Just be carefull with the extent of the loaded frame."
   ]
  },
  {
   "cell_type": "code",
   "execution_count": null,
   "metadata": {},
   "outputs": [],
   "source": [
    "main.stop()"
   ]
  },
  {
   "cell_type": "code",
   "execution_count": null,
   "metadata": {},
   "outputs": [],
   "source": [
    "#Use any  random topography\n",
    "rand_arr = np.ones((sensor.extent[3], sensor.extent[1]))\n",
    "rand_arr[:20] = 2\n",
    "rand_arr[:,:20] = 4\n",
    "rand_arr[100:140,100:120] = 5"
   ]
  },
  {
   "cell_type": "code",
   "execution_count": null,
   "metadata": {},
   "outputs": [],
   "source": [
    "fig, ax = plt.subplots()\n",
    "col = ax.imshow(rand_arr, cmap = \"gist_earth\", origin=\"lower\")\n",
    "fig.colorbar(col, ax = ax)\n"
   ]
  },
  {
   "cell_type": "code",
   "execution_count": null,
   "metadata": {},
   "outputs": [],
   "source": [
    "main.load_frame(rand_arr)\n",
    "main.run()"
   ]
  },
  {
   "cell_type": "code",
   "execution_count": null,
   "metadata": {},
   "outputs": [],
   "source": [
    "# or get the topography and load it yourself\n",
    "main.stop()"
   ]
  },
  {
   "cell_type": "code",
   "execution_count": null,
   "metadata": {},
   "outputs": [],
   "source": [
    "file=np.load( _test_data['topo'] + \"DEM4.npz\")\n",
    "frame_topo =file[\"arr_0\"]\n",
    "frame_topo = frame_topo - frame_topo.min() # modify as here\n",
    "\n",
    "print(\"shape of array:\", frame_topo.shape)\n",
    "\n",
    "fig, ax = plt.subplots()\n",
    "col = ax.imshow(frame_topo, cmap = \"gist_earth\", origin=\"lower\")\n",
    "fig.colorbar(col, ax = ax)"
   ]
  },
  {
   "cell_type": "markdown",
   "metadata": {},
   "source": [
    "## Is possible to normalize this frame to the sanbox extents using the sandbox function (or any other extent)\n"
   ]
  },
  {
   "cell_type": "code",
   "execution_count": null,
   "metadata": {},
   "outputs": [],
   "source": [
    "new_frame = main.normalize_topography(dem=frame_topo, target_extent=sensor.extent)\n",
    "\n",
    "print(\"previous shape of array: \", frame_topo.shape, \"new shape array: \", new_frame.shape)\n",
    "\n",
    "fig, ax = plt.subplots()\n",
    "col = ax.imshow(new_frame, cmap = \"gist_earth\", origin=\"lower\")\n",
    "fig.colorbar(col, ax = ax)"
   ]
  },
  {
   "cell_type": "code",
   "execution_count": null,
   "metadata": {},
   "outputs": [],
   "source": [
    "#This is also use to set a static frame from the sensor - Again run twice if not chnaging\n",
    "main.load_frame(frame=new_frame)\n",
    "main.run()"
   ]
  },
  {
   "cell_type": "markdown",
   "metadata": {},
   "source": [
    "## Go back to normal"
   ]
  },
  {
   "cell_type": "code",
   "execution_count": null,
   "metadata": {},
   "outputs": [],
   "source": [
    "#if want to stop this completely use frame=None\n",
    "main.load_frame(frame = None, from_file= None)"
   ]
  },
  {
   "cell_type": "markdown",
   "metadata": {},
   "source": [
    "## Fixing a sandbox frame"
   ]
  },
  {
   "cell_type": "code",
   "execution_count": null,
   "metadata": {},
   "outputs": [],
   "source": [
    "sensor_frame = sensor.get_frame()\n",
    "main.load_frame(frame = sensor_frame)"
   ]
  },
  {
   "cell_type": "code",
   "execution_count": null,
   "metadata": {},
   "outputs": [],
   "source": [
    "#### Stop the thread\n",
    "\n",
    "\n",
    "\n",
    "\n",
    "\n",
    "\n",
    "\n",
    "\n",
    "\n",
    "\n",
    "\n",
    "\n",
    "\n",
    "\n",
    "main.stop()"
   ]
  },
  {
   "cell_type": "code",
   "execution_count": null,
   "metadata": {},
   "outputs": [],
   "source": [
    "sensor.Sensor._stop()"
   ]
  },
  {
   "cell_type": "code",
   "execution_count": null,
   "metadata": {},
   "outputs": [],
   "source": []
  }
 ],
 "metadata": {
  "kernelspec": {
   "display_name": "Python 3 (ipykernel)",
   "language": "python",
   "name": "python3"
  },
  "language_info": {
   "codemirror_mode": {
    "name": "ipython",
    "version": 3
   },
   "file_extension": ".py",
   "mimetype": "text/x-python",
   "name": "python",
   "nbconvert_exporter": "python",
   "pygments_lexer": "ipython3",
   "version": "3.8.19"
  }
 },
 "nbformat": 4,
 "nbformat_minor": 4
}
