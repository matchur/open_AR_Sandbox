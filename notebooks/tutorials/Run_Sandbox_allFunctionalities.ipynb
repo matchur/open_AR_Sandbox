{
 "cells": [
  {
   "cell_type": "markdown",
   "metadata": {},
   "source": [
    "# Import the Sandbox \n"
   ]
  },
  {
   "cell_type": "markdown",
   "metadata": {},
   "source": [
    "<div class=\"alert alert-block alert-warning\">\n",
    "    <b> Acces to all modules: </b> This Notebook allow to change between modules using only widgets from the bokeh panel\n",
    "</div>"
   ]
  },
  {
   "cell_type": "code",
   "execution_count": null,
   "metadata": {},
   "outputs": [],
   "source": [
    "#Only use if sandbox is not installed\n",
    "import os,sys\n",
    "sys.path.append('../../')"
   ]
  },
  {
   "cell_type": "markdown",
   "metadata": {},
   "source": [
    "## Start the Panel\n",
    "\n",
    "The panel will start with a simple line, opening a bokeh server for the projector and the widgets. Position the window in the projector image and use the widgets to change between modules. Each module will open its respective widgets in a new bokeh server allowing an easy interaction and control over all the features.\n",
    "\n",
    "Please always pass a correct calibration file:"
   ]
  },
  {
   "cell_type": "markdown",
   "metadata": {},
   "source": [
    "## Calibration\n",
    "In case that the frame of the sandbox is not calibrated, for a fast calibration you can use the following line of code and follow the bokeh instructions. In case of a more detailed explanation on how to do the calibration please go to the tutorials"
   ]
  },
  {
   "cell_type": "code",
   "execution_count": null,
   "metadata": {},
   "outputs": [],
   "source": [
    "#save the paths to the calibration files \n",
    "from sandbox import _calibration_dir\n",
    "_calibprojector = _calibration_dir + \"my_projector_calibration.json\"\n",
    "_calibsensor = _calibration_dir + \"my_sensor_calibration.json\""
   ]
  },
  {
   "cell_type": "markdown",
   "metadata": {},
   "source": [
    "#### Projector calibration:"
   ]
  },
  {
   "cell_type": "code",
   "execution_count": null,
   "metadata": {},
   "outputs": [],
   "source": [
    "from sandbox.sandbox_api import calibrate_projector\n",
    "cal_projector = calibrate_projector()"
   ]
  },
  {
   "cell_type": "markdown",
   "metadata": {},
   "source": [
    "Once you have the new calibration file for the projector, we can start the sensor calibration. \n",
    "In the following we assume you have used the predifined name and folder location for the calibration file. In case you have another one, specify the new path.   "
   ]
  },
  {
   "cell_type": "markdown",
   "metadata": {},
   "source": [
    "#### Sensor calibration:"
   ]
  },
  {
   "cell_type": "code",
   "execution_count": null,
   "metadata": {
    "scrolled": true
   },
   "outputs": [],
   "source": [
    "from sandbox.sandbox_api import calibrate_sensor\n",
    "cal_sensor = calibrate_sensor(calibprojector=_calibprojector, name=\"kinect_v2\")"
   ]
  },
  {
   "cell_type": "markdown",
   "metadata": {},
   "source": [
    "Now we are ready to continue with the tutorial."
   ]
  },
  {
   "cell_type": "markdown",
   "metadata": {},
   "source": [
    "## Start the sandbox server with the predefined modules - (NO EXTRA MODULES)"
   ]
  },
  {
   "cell_type": "markdown",
   "metadata": {},
   "source": [
    "To open the sandbox server and start using all its function (Excluding external module: check further to know how to load the external modules), we will only need the calibration file for the projector and the sensor."
   ]
  },
  {
   "cell_type": "markdown",
   "metadata": {},
   "source": [
    "\n",
    "To open the sandbox server and start using all its function (Excluding external module: check further to know how to load the external modules), we will only need the calibration file for the projector and the sensor."
   ]
  },
  {
   "cell_type": "markdown",
   "metadata": {},
   "source": [
    "1. On the left side, you will see the buttons with the name of all the internal modules. They are all ready to be used and waiting to be added to the running thread. \n",
    "\n",
    "2. You will just need to click the green button, and a new tab navigation tab will appear with the module widgets and will also be added to the main thread. \n",
    "\n",
    "3. You can load several modules at the same time, and use all their functionalities combined, just be carefull that the order of the modules matter. \n",
    "\n",
    "4. By default the CmapModule and ContourLinesModule will always run at the end of the thread, you don't need to worry about them.\n",
    "\n",
    "5. To manage the order, to remove and/or add other modules, use manager module wigdets: The left chart are the available modules and on the right are the running modules. You may add or delete modules using the arrows to change the location of the module between charts. \n",
    "\n",
    "6. Finally, if the image that you are getting in the sandbox is saturated of lines or images (maybe from modules you alreay deleted but the image is not yet remove), just click the button for clearing the axes and this will clean the image for you. \n"
   ]
  },
  {
   "cell_type": "code",
   "execution_count": null,
   "metadata": {},
   "outputs": [],
   "source": [
    "from sandbox.sandbox_api import start_server\n",
    "\n",
    "# This will open automatically the panel server and the widgets in a new navigation tab. \n",
    "\n",
    "# If Error 505 appers, just run the cell again, and the error ill dissapear. \n",
    "\n",
    "# We are currently working on some warnings that will appear, \n",
    "# for the moment they are not important to you if the thread don't stop\n",
    "\n",
    "# We assume you went through the tutorials of all the modules and are familiar with the widgets of each.\n",
    "\n",
    "Sb_server = start_server(calibprojector = _calibprojector,\n",
    "                         calibsensor= _calibsensor,\n",
    "                         sensor_name='dummy',\n",
    "                         aruco_marker=True\n",
    "                         )"
   ]
  },
  {
   "cell_type": "markdown",
   "metadata": {},
   "source": [
    "## Sandbox server with external modules"
   ]
  },
  {
   "cell_type": "markdown",
   "metadata": {},
   "source": [
    "Which external packages do you want to load?"
   ]
  },
  {
   "cell_type": "code",
   "execution_count": null,
   "metadata": {},
   "outputs": [],
   "source": [
    "import os\n",
    "#Run this cell only if you want to run gempy in cuda mode (requires cuda and a dedicated cpu).\n",
    "#Initial compilation will take a bit longer but the model will run much faster \n",
    "os.environ[\"THEANO_FLAGS\"] = \"mode=FAST_RUN,device=cuda\""
   ]
  },
  {
   "cell_type": "code",
   "execution_count": null,
   "metadata": {},
   "outputs": [],
   "source": [
    "external_modules = dict(gempy_module = False,\n",
    "                        gimli_module = False,\n",
    "                        torch_module = False,\n",
    "                        devito_module = True\n",
    "                       )"
   ]
  },
  {
   "cell_type": "markdown",
   "metadata": {},
   "source": [
    "we can pass the information for every module using dictionaries"
   ]
  },
  {
   "cell_type": "code",
   "execution_count": null,
   "metadata": {},
   "outputs": [],
   "source": [
    "gempy_kwargs = {}\n",
    "if external_modules[\"gempy_module\"]:\n",
    "    gempy_kwargs = dict(geo_model = None,\n",
    "                       load_examples = True,\n",
    "                       name_example = ['Horizontal_layers', \n",
    "                                       'Recumbent_fold', \n",
    "                                       'Anticline',\n",
    "                                       'Pinchout', \n",
    "                                       'Fault', \n",
    "                                       'Unconformity']\n",
    "                       )"
   ]
  },
  {
   "cell_type": "markdown",
   "metadata": {},
   "source": [
    "And the same way as we loaded the internal modules, we can add the new external modules with their respective widgets. The usage will be the same as before"
   ]
  },
  {
   "cell_type": "code",
   "execution_count": null,
   "metadata": {},
   "outputs": [],
   "source": [
    "from sandbox.sandbox_api import start_server\n",
    "\n",
    "Sb_server = start_server(calibprojector = _calibprojector,\n",
    "                         calibsensor= _calibsensor,\n",
    "                         sensor_name='dummy',\n",
    "                         aruco_marker=True,\n",
    "                         kwargs_external_modules=external_modules,\n",
    "                         kwargs_gempy_module=gempy_kwargs,\n",
    "                         )"
   ]
  },
  {
   "cell_type": "code",
   "execution_count": null,
   "metadata": {},
   "outputs": [],
   "source": [
    "\n",
    "\n",
    "\n",
    "\n",
    "\n",
    "\n",
    "\n",
    "\n",
    "\n",
    "\n",
    "Sb_server.Main_Thread.stop()"
   ]
  },
  {
   "cell_type": "code",
   "execution_count": null,
   "metadata": {},
   "outputs": [],
   "source": []
  }
 ],
 "metadata": {
  "kernelspec": {
   "display_name": "Python 3 (ipykernel)",
   "language": "python",
   "name": "python3"
  },
  "language_info": {
   "codemirror_mode": {
    "name": "ipython",
    "version": 3
   },
   "file_extension": ".py",
   "mimetype": "text/x-python",
   "name": "python",
   "nbconvert_exporter": "python",
   "pygments_lexer": "ipython3",
   "version": "3.8.19"
  }
 },
 "nbformat": 4,
 "nbformat_minor": 4
}
